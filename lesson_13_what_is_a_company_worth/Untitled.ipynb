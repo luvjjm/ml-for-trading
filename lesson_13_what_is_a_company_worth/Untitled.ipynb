{
 "cells": [
  {
   "attachments": {},
   "cell_type": "markdown",
   "metadata": {},
   "source": [
    "## 왜 company value가 중요한가?\n",
    "---\n",
    "#### 기업 가치를 알면 매수/매도 기회를 잡을 수 있다\n",
    "![](img/1.png)\n",
    "\n",
    "## 미래 돈의 현재 가치\n",
    "---\n",
    "![](img/2.png)\n",
    "\n",
    "## 내재 가치(Intrinsic Value)\n",
    "---\n",
    "![](img/3.png)\n",
    "\n",
    "## 장부 가치(Book Value)\n",
    "---\n",
    "![](img/4.png)\n",
    "\n",
    "## 시가 총액(Market Capitalization)\n",
    "---\n",
    "![](img/5.png)"
   ]
  }
 ],
 "metadata": {
  "kernelspec": {
   "display_name": "Python 3",
   "language": "python",
   "name": "python3"
  },
  "language_info": {
   "codemirror_mode": {
    "name": "ipython",
    "version": 3
   },
   "file_extension": ".py",
   "mimetype": "text/x-python",
   "name": "python",
   "nbconvert_exporter": "python",
   "pygments_lexer": "ipython3",
   "version": "3.6.5"
  },
  "toc": {
   "base_numbering": 1,
   "nav_menu": {},
   "number_sections": false,
   "sideBar": false,
   "skip_h1_title": false,
   "title_cell": "Table of Contents",
   "title_sidebar": "Contents",
   "toc_cell": false,
   "toc_position": {},
   "toc_section_display": false,
   "toc_window_display": false
  }
 },
 "nbformat": 4,
 "nbformat_minor": 2
}
