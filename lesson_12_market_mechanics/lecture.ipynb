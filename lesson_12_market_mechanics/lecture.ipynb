{
 "cells": [
  {
   "cell_type": "markdown",
   "metadata": {},
   "source": [
    "## 주문의 구성 요소\n",
    "---\n",
    "![](img/1.png)\n",
    "\n",
    "## 주문과 오더북\n",
    "---\n",
    "![](img/2.png)\n",
    "![](img/3.png)\n",
    "![](img/4.png)  \n",
    "\n",
    "## 오더북(호가창) 예시\n",
    "---\n",
    "![](img/5.png)\n",
    "\n",
    "\n",
    "## 주문이 거래소에 도착하기까지 일어나는 일들\n",
    "---\n",
    "![](img/6.png)\n",
    "![](img/7.png)\n",
    "![](img/8.png)\n",
    "\n",
    "\n",
    "## 헤지펀드가 시장을 공략하는 방법\n",
    "---\n",
    "![](img/9.png)\n",
    "\n",
    "#### Geographic Arbitrage\n",
    "![](img/10.png)\n"
   ]
  },
  {
   "cell_type": "markdown",
   "metadata": {},
   "source": [
    "## 기타 추가적인 주문 종류\n",
    "----\n",
    "![](img/11.png)\n",
    "\n",
    "## 일반 공매도의 동작 방식\n",
    "----\n",
    "![](img/12.png)"
   ]
  },
  {
   "cell_type": "code",
   "execution_count": null,
   "metadata": {},
   "outputs": [],
   "source": []
  }
 ],
 "metadata": {
  "kernelspec": {
   "display_name": "Python 3",
   "language": "python",
   "name": "python3"
  },
  "language_info": {
   "codemirror_mode": {
    "name": "ipython",
    "version": 3
   },
   "file_extension": ".py",
   "mimetype": "text/x-python",
   "name": "python",
   "nbconvert_exporter": "python",
   "pygments_lexer": "ipython3",
   "version": "3.6.5"
  },
  "toc": {
   "base_numbering": 1,
   "nav_menu": {},
   "number_sections": false,
   "sideBar": false,
   "skip_h1_title": false,
   "title_cell": "Table of Contents",
   "title_sidebar": "Contents",
   "toc_cell": false,
   "toc_position": {},
   "toc_section_display": false,
   "toc_window_display": false
  }
 },
 "nbformat": 4,
 "nbformat_minor": 2
}
