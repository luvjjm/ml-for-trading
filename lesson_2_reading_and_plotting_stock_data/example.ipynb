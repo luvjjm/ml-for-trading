{
 "cells": [
  {
   "cell_type": "markdown",
   "metadata": {},
   "source": [
    "# Lesson outline\n",
    "In this lesson you will learn how to read data, select subsets of it and generate useful plots, \n",
    "using [pandas](https://pandas.pydata.org) and [matplotlib](https://matplotlib.org/).  \n",
    "The documentation links below are for your reference.\n",
    "\n",
    "* Read stock data from CSV files:\n",
    "  * pandas.DataFrame\n",
    "  * pandas.read_csv\n",
    "\n",
    "* Select desired rows and columns:\n",
    "  * Indexing and Slicing Data\n",
    "  * Gotchas: Label-based slicing conventions\n",
    "\n",
    "* Visualize data by generating plots:\n",
    "  * Plotting\n",
    "  * pandas.DataFrame.plot\n",
    "  * matplotlib.pyplot.plot\n"
   ]
  },
  {
   "cell_type": "markdown",
   "metadata": {},
   "source": [
    "## Real stock data looks like this\n",
    "\n",
    "### HCP.csv\n",
    "\n",
    "Date, Open, High, Low, Close, Volumn, Adj Close  \n",
    "2017-12-31 10000, 11500, 9950, 10500, 58392, 10500  \n",
    "...  \n",
    "2017-01-01 ...  \n",
    "\n",
    "* Date: 거래일\n",
    "* Open: 시가\n",
    "* High: 최고가\n",
    "* Low: 최저가\n",
    "* Close: 종가\n",
    "* Volume: 거래량\n",
    "* Adj Close: 수정 종가\n"
   ]
  },
  {
   "cell_type": "markdown",
   "metadata": {},
   "source": [
    "## Pandas DataFrame\n",
    "\n",
    "* It was originally developed to handle financial data\n",
    "* DataFrame is a 2-dimensional labeled data structure with columns of potentially different types\n",
    "\n",
    "![pandas](img/dataframe.png)\n",
    "\n",
    "\n",
    "**Reading in a CSV file**  \n",
    "You can read in the contents of a CSV (comma-separated values) file into a Pandas dataframe using:\n",
    "\n",
    "`df = pd.read_csv(<filename>)`\n",
    "\n",
    "**Selecting rows from a dataframe**  \n",
    "First 5 rows: `df.head()`  \n",
    "Last 5 rows: `df.tail()`  \n",
    "Similarly, last n rows: `df.tail(n)`  \n"
   ]
  },
  {
   "cell_type": "code",
   "execution_count": 3,
   "metadata": {},
   "outputs": [
    {
     "data": {
      "text/html": [
       "<div>\n",
       "<style scoped>\n",
       "    .dataframe tbody tr th:only-of-type {\n",
       "        vertical-align: middle;\n",
       "    }\n",
       "\n",
       "    .dataframe tbody tr th {\n",
       "        vertical-align: top;\n",
       "    }\n",
       "\n",
       "    .dataframe thead th {\n",
       "        text-align: right;\n",
       "    }\n",
       "</style>\n",
       "<table border=\"1\" class=\"dataframe\">\n",
       "  <thead>\n",
       "    <tr style=\"text-align: right;\">\n",
       "      <th></th>\n",
       "      <th>Date</th>\n",
       "      <th>Open</th>\n",
       "      <th>High</th>\n",
       "      <th>Low</th>\n",
       "      <th>Close</th>\n",
       "      <th>Volume</th>\n",
       "      <th>Adj. Close*</th>\n",
       "    </tr>\n",
       "  </thead>\n",
       "  <tbody>\n",
       "    <tr>\n",
       "      <th>0</th>\n",
       "      <td>19-Sep-03</td>\n",
       "      <td>29.76</td>\n",
       "      <td>29.97</td>\n",
       "      <td>29.52</td>\n",
       "      <td>29.96</td>\n",
       "      <td>92433800</td>\n",
       "      <td>29.79</td>\n",
       "    </tr>\n",
       "    <tr>\n",
       "      <th>1</th>\n",
       "      <td>18-Sep-03</td>\n",
       "      <td>28.49</td>\n",
       "      <td>29.51</td>\n",
       "      <td>28.42</td>\n",
       "      <td>29.50</td>\n",
       "      <td>67268096</td>\n",
       "      <td>29.34</td>\n",
       "    </tr>\n",
       "    <tr>\n",
       "      <th>2</th>\n",
       "      <td>17-Sep-03</td>\n",
       "      <td>28.76</td>\n",
       "      <td>28.95</td>\n",
       "      <td>28.47</td>\n",
       "      <td>28.50</td>\n",
       "      <td>47221600</td>\n",
       "      <td>28.34</td>\n",
       "    </tr>\n",
       "  </tbody>\n",
       "</table>\n",
       "</div>"
      ],
      "text/plain": [
       "        Date   Open   High    Low  Close    Volume  Adj. Close*\n",
       "0  19-Sep-03  29.76  29.97  29.52  29.96  92433800        29.79\n",
       "1  18-Sep-03  28.49  29.51  28.42  29.50  67268096        29.34\n",
       "2  17-Sep-03  28.76  28.95  28.47  28.50  47221600        28.34"
      ]
     },
     "execution_count": 3,
     "metadata": {},
     "output_type": "execute_result"
    }
   ],
   "source": [
    "# dump csv into pandas dataframe\n",
    "\n",
    "import pandas as pd\n",
    "from matplotlib import cbook as cbook\n",
    "msft_stock = cbook.get_sample_data('msft.csv', asfileobj=False)\n",
    "\n",
    "df = pd.read_csv(msft_stock)\n",
    "df.head(3)"
   ]
  },
  {
   "cell_type": "code",
   "execution_count": 4,
   "metadata": {},
   "outputs": [
    {
     "data": {
      "text/html": [
       "<div>\n",
       "<style scoped>\n",
       "    .dataframe tbody tr th:only-of-type {\n",
       "        vertical-align: middle;\n",
       "    }\n",
       "\n",
       "    .dataframe tbody tr th {\n",
       "        vertical-align: top;\n",
       "    }\n",
       "\n",
       "    .dataframe thead th {\n",
       "        text-align: right;\n",
       "    }\n",
       "</style>\n",
       "<table border=\"1\" class=\"dataframe\">\n",
       "  <thead>\n",
       "    <tr style=\"text-align: right;\">\n",
       "      <th></th>\n",
       "      <th>Date</th>\n",
       "      <th>Open</th>\n",
       "      <th>High</th>\n",
       "      <th>Low</th>\n",
       "      <th>Close</th>\n",
       "      <th>Volume</th>\n",
       "      <th>Adj. Close*</th>\n",
       "    </tr>\n",
       "  </thead>\n",
       "  <tbody>\n",
       "    <tr>\n",
       "      <th>10</th>\n",
       "      <td>5-Sep-03</td>\n",
       "      <td>28.23</td>\n",
       "      <td>28.75</td>\n",
       "      <td>28.17</td>\n",
       "      <td>28.38</td>\n",
       "      <td>64024500</td>\n",
       "      <td>28.22</td>\n",
       "    </tr>\n",
       "    <tr>\n",
       "      <th>11</th>\n",
       "      <td>4-Sep-03</td>\n",
       "      <td>28.10</td>\n",
       "      <td>28.47</td>\n",
       "      <td>27.99</td>\n",
       "      <td>28.43</td>\n",
       "      <td>59840800</td>\n",
       "      <td>28.27</td>\n",
       "    </tr>\n",
       "    <tr>\n",
       "      <th>12</th>\n",
       "      <td>3-Sep-03</td>\n",
       "      <td>27.42</td>\n",
       "      <td>28.40</td>\n",
       "      <td>27.38</td>\n",
       "      <td>28.30</td>\n",
       "      <td>109437800</td>\n",
       "      <td>28.14</td>\n",
       "    </tr>\n",
       "    <tr>\n",
       "      <th>13</th>\n",
       "      <td>2-Sep-03</td>\n",
       "      <td>26.70</td>\n",
       "      <td>27.30</td>\n",
       "      <td>26.47</td>\n",
       "      <td>27.26</td>\n",
       "      <td>74168896</td>\n",
       "      <td>27.11</td>\n",
       "    </tr>\n",
       "    <tr>\n",
       "      <th>14</th>\n",
       "      <td>29-Aug-03</td>\n",
       "      <td>26.46</td>\n",
       "      <td>26.55</td>\n",
       "      <td>26.35</td>\n",
       "      <td>26.52</td>\n",
       "      <td>34503000</td>\n",
       "      <td>26.37</td>\n",
       "    </tr>\n",
       "    <tr>\n",
       "      <th>15</th>\n",
       "      <td>28-Aug-03</td>\n",
       "      <td>26.50</td>\n",
       "      <td>26.58</td>\n",
       "      <td>26.24</td>\n",
       "      <td>26.51</td>\n",
       "      <td>46211200</td>\n",
       "      <td>26.36</td>\n",
       "    </tr>\n",
       "    <tr>\n",
       "      <th>16</th>\n",
       "      <td>27-Aug-03</td>\n",
       "      <td>26.51</td>\n",
       "      <td>26.58</td>\n",
       "      <td>26.30</td>\n",
       "      <td>26.42</td>\n",
       "      <td>30633900</td>\n",
       "      <td>26.27</td>\n",
       "    </tr>\n",
       "    <tr>\n",
       "      <th>17</th>\n",
       "      <td>26-Aug-03</td>\n",
       "      <td>26.31</td>\n",
       "      <td>26.67</td>\n",
       "      <td>25.96</td>\n",
       "      <td>26.57</td>\n",
       "      <td>47546000</td>\n",
       "      <td>26.42</td>\n",
       "    </tr>\n",
       "    <tr>\n",
       "      <th>18</th>\n",
       "      <td>25-Aug-03</td>\n",
       "      <td>26.31</td>\n",
       "      <td>26.54</td>\n",
       "      <td>26.23</td>\n",
       "      <td>26.50</td>\n",
       "      <td>36132900</td>\n",
       "      <td>26.35</td>\n",
       "    </tr>\n",
       "    <tr>\n",
       "      <th>19</th>\n",
       "      <td>22-Aug-03</td>\n",
       "      <td>26.78</td>\n",
       "      <td>26.95</td>\n",
       "      <td>26.21</td>\n",
       "      <td>26.22</td>\n",
       "      <td>65846300</td>\n",
       "      <td>26.07</td>\n",
       "    </tr>\n",
       "    <tr>\n",
       "      <th>20</th>\n",
       "      <td>21-Aug-03</td>\n",
       "      <td>26.65</td>\n",
       "      <td>26.73</td>\n",
       "      <td>26.13</td>\n",
       "      <td>26.24</td>\n",
       "      <td>63802700</td>\n",
       "      <td>26.09</td>\n",
       "    </tr>\n",
       "  </tbody>\n",
       "</table>\n",
       "</div>"
      ],
      "text/plain": [
       "         Date   Open   High    Low  Close     Volume  Adj. Close*\n",
       "10   5-Sep-03  28.23  28.75  28.17  28.38   64024500        28.22\n",
       "11   4-Sep-03  28.10  28.47  27.99  28.43   59840800        28.27\n",
       "12   3-Sep-03  27.42  28.40  27.38  28.30  109437800        28.14\n",
       "13   2-Sep-03  26.70  27.30  26.47  27.26   74168896        27.11\n",
       "14  29-Aug-03  26.46  26.55  26.35  26.52   34503000        26.37\n",
       "15  28-Aug-03  26.50  26.58  26.24  26.51   46211200        26.36\n",
       "16  27-Aug-03  26.51  26.58  26.30  26.42   30633900        26.27\n",
       "17  26-Aug-03  26.31  26.67  25.96  26.57   47546000        26.42\n",
       "18  25-Aug-03  26.31  26.54  26.23  26.50   36132900        26.35\n",
       "19  22-Aug-03  26.78  26.95  26.21  26.22   65846300        26.07\n",
       "20  21-Aug-03  26.65  26.73  26.13  26.24   63802700        26.09"
      ]
     },
     "execution_count": 4,
     "metadata": {},
     "output_type": "execute_result"
    }
   ],
   "source": [
    "# selecting rows\n",
    "df[10:21] # rows between index 10 and 20"
   ]
  },
  {
   "cell_type": "code",
   "execution_count": 5,
   "metadata": {},
   "outputs": [
    {
     "data": {
      "text/plain": [
       "29.96"
      ]
     },
     "execution_count": 5,
     "metadata": {},
     "output_type": "execute_result"
    }
   ],
   "source": [
    "# compute max closing price\n",
    "\n",
    "df['Close'].max()  # compute and return max"
   ]
  },
  {
   "cell_type": "code",
   "execution_count": 6,
   "metadata": {},
   "outputs": [
    {
     "data": {
      "text/plain": [
       "55317175.13846154"
      ]
     },
     "execution_count": 6,
     "metadata": {},
     "output_type": "execute_result"
    }
   ],
   "source": [
    "# Compute mean volume\n",
    "\n",
    "df['Volume'].mean()"
   ]
  },
  {
   "cell_type": "code",
   "execution_count": 7,
   "metadata": {},
   "outputs": [
    {
     "data": {
      "text/plain": [
       "<Figure size 640x480 with 1 Axes>"
      ]
     },
     "metadata": {},
     "output_type": "display_data"
    }
   ],
   "source": [
    "# Plotting stock price data\n",
    "\n",
    "import matplotlib.pyplot as plt\n",
    "df['Adj. Close*'].plot()\n",
    "plt.show()"
   ]
  },
  {
   "cell_type": "code",
   "execution_count": 8,
   "metadata": {},
   "outputs": [
    {
     "data": {
      "image/png": "[encoded data removed]",
      "text/plain": [
       "<Figure size 432x288 with 1 Axes>"
      ]
     },
     "metadata": {},
     "output_type": "display_data"
    }
   ],
   "source": [
    "# Plot two columns\n",
    "\n",
    "df[['Close', 'Adj. Close*']].plot()\n",
    "plt.show()"
   ]
  }
 ],
 "metadata": {
  "kernelspec": {
   "display_name": "Python 3",
   "language": "python",
   "name": "python3"
  },
  "language_info": {
   "codemirror_mode": {
    "name": "ipython",
    "version": 3
   },
   "file_extension": ".py",
   "mimetype": "text/x-python",
   "name": "python",
   "nbconvert_exporter": "python",
   "pygments_lexer": "ipython3",
   "version": "3.6.5"
  },
  "toc": {
   "base_numbering": 1,
   "nav_menu": {},
   "number_sections": false,
   "sideBar": false,
   "skip_h1_title": false,
   "title_cell": "Table of Contents",
   "title_sidebar": "Contents",
   "toc_cell": false,
   "toc_position": {},
   "toc_section_display": false,
   "toc_window_display": false
  }
 },
 "nbformat": 4,
 "nbformat_minor": 2
}
