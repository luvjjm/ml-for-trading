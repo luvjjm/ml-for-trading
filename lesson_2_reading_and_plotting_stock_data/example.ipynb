{
 "cells": [
  {
   "cell_type": "markdown",
   "metadata": {},
   "source": [
    "# Lesson outline\n",
    "In this lesson you will learn how to read data, select subsets of it and generate useful plots, \n",
    "using [pandas](https://pandas.pydata.org) and [matplotlib](https://matplotlib.org/).  \n",
    "The documentation links below are for your reference.\n",
    "\n",
    "* Read stock data from CSV files:\n",
    "  * pandas.DataFrame\n",
    "  * pandas.read_csv\n",
    "\n",
    "* Select desired rows and columns:\n",
    "  * Indexing and Slicing Data\n",
    "  * Gotchas: Label-based slicing conventions\n",
    "\n",
    "* Visualize data by generating plots:\n",
    "  * Plotting\n",
    "  * pandas.DataFrame.plot\n",
    "  * matplotlib.pyplot.plot\n"
   ]
  },
  {
   "cell_type": "markdown",
   "metadata": {},
   "source": [
    "## Real stock data looks like this\n",
    "\n",
    "### HCP.csv\n",
    "\n",
    "Date, Open, High, Low, Close, Volumn, Adj Close  \n",
    "2017-12-31 10000, 11500, 9950, 10500, 58392, 10500  \n",
    "...  \n",
    "2017-01-01 ...  \n",
    "\n",
    "* Date: 거래일\n",
    "* Open: 시가\n",
    "* High: 최고가\n",
    "* Low: 최저가\n",
    "* Close: 종가\n",
    "* Volume: 거래량\n",
    "* Adj Close: 수정 종가\n"
   ]
  },
  {
   "cell_type": "markdown",
   "metadata": {},
   "source": [
    "## Pandas DataFrame\n",
    "\n",
    "* It was originally developed to handle financial data\n",
    "* DataFrame is a 2-dimensional labeled data structure with columns of potentially different types\n",
    "\n",
    "![pandas](img/dataframe.png)\n",
    "\n",
    "\n",
    "**Reading in a CSV file**  \n",
    "You can read in the contents of a CSV (comma-separated values) file into a Pandas dataframe using:\n",
    "\n",
    "`df = pd.read_csv(<filename>)`\n",
    "\n",
    "**Selecting rows from a dataframe**  \n",
    "First 5 rows: `df.head()`  \n",
    "Last 5 rows: `df.tail()`  \n",
    "Similarly, last n rows: `df.tail(n)`  \n"
   ]
  },
  {
   "cell_type": "code",
   "execution_count": null,
   "metadata": {},
   "outputs": [],
   "source": [
    "# dump csv into pandas dataframe\n",
    "\n",
    "import pandas as pd\n",
    "from matplotlib import cbook as cbook\n",
    "appl_stock = cbook.get_sample_data('msft.csv', asfileobj=False)\n",
    "\n",
    "df = pd.read_csv(appl_stock)\n",
    "df.head(3)"
   ]
  },
  {
   "cell_type": "code",
   "execution_count": null,
   "metadata": {},
   "outputs": [],
   "source": [
    "# selecting rows\n",
    "df[10:21] # rows between index 10 and 20"
   ]
  },
  {
   "cell_type": "code",
   "execution_count": null,
   "metadata": {},
   "outputs": [],
   "source": [
    "# compute max closing price\n",
    "\n",
    "df['Close'].max()  # compute and return max"
   ]
  },
  {
   "cell_type": "code",
   "execution_count": null,
   "metadata": {},
   "outputs": [],
   "source": [
    "# Compute mean volume\n",
    "\n",
    "df['Volume'].mean()"
   ]
  },
  {
   "cell_type": "code",
   "execution_count": null,
   "metadata": {},
   "outputs": [],
   "source": [
    "# Plotting stock price data\n",
    "\n",
    "import matplotlib.pyplot as plt\n",
    "df['Adj. Close*'].plot()\n",
    "plt.show()"
   ]
  }
 ],
 "metadata": {
  "kernelspec": {
   "display_name": "Python 3",
   "language": "python",
   "name": "python3"
  },
  "language_info": {
   "codemirror_mode": {
    "name": "ipython",
    "version": 3
   },
   "file_extension": ".py",
   "mimetype": "text/x-python",
   "name": "python",
   "nbconvert_exporter": "python",
   "pygments_lexer": "ipython3",
   "version": "3.6.5"
  },
  "toc": {
   "base_numbering": 1,
   "nav_menu": {},
   "number_sections": false,
   "sideBar": false,
   "skip_h1_title": false,
   "title_cell": "Table of Contents",
   "title_sidebar": "Contents",
   "toc_cell": false,
   "toc_position": {},
   "toc_section_display": false,
   "toc_window_display": false
  }
 },
 "nbformat": 4,
 "nbformat_minor": 2
}
