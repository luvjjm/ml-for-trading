{
 "cells": [
  {
   "cell_type": "markdown",
   "metadata": {},
   "source": [
    "# Lesson outline\n",
    "\n",
    "* Create a NumPy array:\n",
    "  * from a pandas dataframe: pandas.DataFrame.values\n",
    "  * from a Python sequence: numpy.array\n",
    "  * with constant initial values: numpy.ones, numpy.zeros\n",
    "  * with random values: numpy.random\n",
    "* Access array attributes: shape, ndim, size, dtype\n",
    "* Compute statistics: sum, min, max, mean\n",
    "* Carry out arithmetic operations: add, subtract, multiply, divide\n",
    "* Measure execution time: time.time, profile\n",
    "* Manipulate array elements: Using simple indices and slices, integer arrays, boolean arrays"
   ]
  },
  {
   "cell_type": "markdown",
   "metadata": {},
   "source": [
    "**Dataframe is just wrapper for numpy ndarray**\n",
    "\n",
    "`nd1=df1.values`"
   ]
  },
  {
   "cell_type": "markdown",
   "metadata": {},
   "source": [
    "![](img/1.png)"
   ]
  },
  {
   "cell_type": "code",
   "execution_count": 43,
   "metadata": {},
   "outputs": [
    {
     "name": "stdout",
     "output_type": "stream",
     "text": [
      "[2 3 4]\n",
      "[[1 2 3]\n",
      " [5 6 7]]\n",
      "[[[-1.28822975e-231 -1.29073963e-231  2.21540947e-314]\n",
      "  [ 2.19770998e-314  2.21541545e-314  2.21542364e-314]\n",
      "  [ 2.21542450e-314  2.21542471e-314  2.21542478e-314]\n",
      "  [ 2.21542485e-314  2.21542492e-314  2.21259782e-314]]\n",
      "\n",
      " [[ 2.21539882e-314  2.21542500e-314  2.21535712e-314]\n",
      "  [ 2.21542514e-314  2.21534827e-314  2.21542521e-314]\n",
      "  [ 2.21533723e-314  2.21542528e-314  2.21539904e-314]\n",
      "  [ 2.21542535e-314  2.21541924e-314  2.21542549e-314]]\n",
      "\n",
      " [[ 2.21541914e-314  2.21542557e-314  2.21539923e-314]\n",
      "  [ 2.19624299e-314  2.21543579e-314  2.21533176e-314]\n",
      "  [ 2.21543586e-314  2.21533180e-314  2.21543593e-314]\n",
      "  [ 2.21534831e-314  2.21543600e-314  2.21535123e-314]]\n",
      "\n",
      " [[ 2.21543607e-314  2.21533824e-314  2.21543614e-314]\n",
      "  [ 2.21535715e-314  2.21543621e-314  2.21535119e-314]\n",
      "  [ 2.19619391e-314  2.21543628e-314  2.21543384e-314]\n",
      "  [ 2.21543643e-314  2.21533719e-314  2.21543657e-314]]\n",
      "\n",
      " [[ 2.21533183e-314  2.21543671e-314  2.21533173e-314]\n",
      "  [ 2.21543692e-314  2.21533852e-314  2.21528625e-314]\n",
      "  [ 2.21542013e-314  2.21495745e-314  2.21542016e-314]\n",
      "  [ 2.21542019e-314  2.21542022e-314  4.17201348e-308]]]\n",
      "[[1. 1. 1. 1.]\n",
      " [1. 1. 1. 1.]\n",
      " [1. 1. 1. 1.]\n",
      " [1. 1. 1. 1.]\n",
      " [1. 1. 1. 1.]]\n"
     ]
    }
   ],
   "source": [
    "import numpy as np\n",
    "\n",
    "# List to 1D array\n",
    "print(np.array([2, 3, 4]))\n",
    "\n",
    "# 2D array\n",
    "print(np.array([[1,2,3], [5,6,7]]))\n",
    "\n",
    "# empty array (actually not zero)\n",
    "print(np.empty((5,4,3)))\n",
    "\n",
    "# array of 1s\n",
    "print(np.ones((5, 4)))"
   ]
  },
  {
   "cell_type": "code",
   "execution_count": 44,
   "metadata": {},
   "outputs": [
    {
     "data": {
      "text/plain": [
       "array([[0.68606763, 0.94171111, 0.12454798, 0.43670109],\n",
       "       [0.12649632, 0.17646316, 0.15994133, 0.23114565],\n",
       "       [0.85053995, 0.2732834 , 0.56136226, 0.80309824],\n",
       "       [0.02816901, 0.34656847, 0.52476857, 0.7780763 ],\n",
       "       [0.2852825 , 0.09296586, 0.18428266, 0.27587949]])"
      ]
     },
     "execution_count": 44,
     "metadata": {},
     "output_type": "execute_result"
    }
   ],
   "source": [
    "# generating random values\n",
    "np.random.random((5,4))  # random() uniformly sampled from [0.0, 1.0)"
   ]
  },
  {
   "cell_type": "code",
   "execution_count": 45,
   "metadata": {},
   "outputs": [
    {
     "name": "stdout",
     "output_type": "stream",
     "text": [
      "[[-0.68290101 -0.08248873 -0.12057103]\n",
      " [-1.01855804 -1.379017   -0.41547778]]\n",
      "[[13.72503131 17.48526006 10.92626148]\n",
      " [ 0.59646251  8.54334655 14.99610304]]\n"
     ]
    }
   ],
   "source": [
    "# Sample numbers from a Gausian (normal) distribution (mean = 0, s.d. = 1)\n",
    "print(np.random.normal(size=(2,3)))\n",
    "\n",
    "print(np.random.normal(10, 5, size=(2,3)))  # (mean = 10, s.d. = 5)"
   ]
  },
  {
   "cell_type": "code",
   "execution_count": 46,
   "metadata": {},
   "outputs": [
    {
     "name": "stdout",
     "output_type": "stream",
     "text": [
      "(5, 4)\n",
      "20\n",
      "float64\n"
     ]
    }
   ],
   "source": [
    "# array attributes\n",
    "\n",
    "# shape of the array\n",
    "a = np.random.rand(5, 4)\n",
    "print(a.shape)\n",
    "\n",
    "# number of elems in the array\n",
    "print(a.size)\n",
    "\n",
    "# data type of the values\n",
    "print(a.dtype)"
   ]
  },
  {
   "cell_type": "code",
   "execution_count": 47,
   "metadata": {},
   "outputs": [
    {
     "name": "stdout",
     "output_type": "stream",
     "text": [
      "[[2 0 5 1]\n",
      " [1 3 4 4]\n",
      " [9 2 9 1]\n",
      " [9 3 7 5]\n",
      " [4 7 0 3]]\n",
      "79\n",
      "sum of each column:[25 15 25 14]\n",
      "sum of each row:[ 8 12 21 24 14]\n",
      "mean of all elements:3.95\n"
     ]
    }
   ],
   "source": [
    "# Operations on ndarrays\n",
    "\n",
    "np.random.seed(693)\n",
    "a = np.random.randint(0, 10, size=(5,4)) # 5x4 random integers in [0, 10)\n",
    "print(a)\n",
    "\n",
    "print(a.sum()) # sum of all elements\n",
    "\n",
    "print(f\"sum of each column:{a.sum(axis=0)}\")  # Iterate over rows, to compute sum of each column\n",
    "print(f\"sum of each row:{a.sum(axis=1)}\")  # Iterate over columns, to compute sum of each row\n",
    "print(f\"mean of all elements:{a.mean()}\")  # Mean of all elements"
   ]
  },
  {
   "cell_type": "code",
   "execution_count": 48,
   "metadata": {},
   "outputs": [
    {
     "name": "stdout",
     "output_type": "stream",
     "text": [
      "[0.31127579 0.62872047 0.07569968 0.54876981 0.53860522]\n",
      "[0.62872047 0.62872047 0.07569968 0.54876981]\n"
     ]
    }
   ],
   "source": [
    "# accessing using list of indices\n",
    "\n",
    "a = np.random.rand(5)\n",
    "print(a)\n",
    "indices = np.array([1, 1, 2, 3])\n",
    "print(a[indices])"
   ]
  },
  {
   "cell_type": "code",
   "execution_count": 49,
   "metadata": {},
   "outputs": [
    {
     "name": "stdout",
     "output_type": "stream",
     "text": [
      "[[20 25 10 23 26 32 10  5  0]\n",
      " [ 0  2 50 20  0  1 28  5  0]]\n",
      "14.277777777777779\n",
      "[10 10  5  0  0  2  0  1  5  0]\n"
     ]
    }
   ],
   "source": [
    "# Boolean or mask index arrays\n",
    "\n",
    "a = np.array([(20,25,10,23,26,32,10,5,0), (0,2,50,20,0,1,28,5,0)])\n",
    "print(a)\n",
    "mean = a.mean()\n",
    "print(mean)\n",
    "\n",
    "print(a[a<mean])"
   ]
  },
  {
   "cell_type": "code",
   "execution_count": 50,
   "metadata": {},
   "outputs": [
    {
     "name": "stdout",
     "output_type": "stream",
     "text": [
      "Multiply a by 2: \n",
      "[[  2   4   6   8  10]\n",
      " [ 20  40  60  80 100]]\n"
     ]
    }
   ],
   "source": [
    "# Arithmetic operations\n",
    "\n",
    "a = np.array([(1,2,3,4,5),(10,20,30,40,50)])\n",
    "print(f\"Multiply a by 2: \\n{2*a}\")"
   ]
  },
  {
   "cell_type": "code",
   "execution_count": 51,
   "metadata": {},
   "outputs": [
    {
     "data": {
      "text/plain": [
       "array([10, 22, 36])"
      ]
     },
     "execution_count": 51,
     "metadata": {},
     "output_type": "execute_result"
    }
   ],
   "source": [
    "# two arrays with same dimension => element-wise ops\n",
    "\n",
    "a = np.array([1,2,3])\n",
    "b = np.array([10,11,12])\n",
    "a*b"
   ]
  }
 ],
 "metadata": {
  "kernelspec": {
   "display_name": "Python 3",
   "language": "python",
   "name": "python3"
  },
  "language_info": {
   "codemirror_mode": {
    "name": "ipython",
    "version": 3
   },
   "file_extension": ".py",
   "mimetype": "text/x-python",
   "name": "python",
   "nbconvert_exporter": "python",
   "pygments_lexer": "ipython3",
   "version": "3.6.5"
  },
  "toc": {
   "base_numbering": 1,
   "nav_menu": {},
   "number_sections": false,
   "sideBar": false,
   "skip_h1_title": false,
   "title_cell": "Table of Contents",
   "title_sidebar": "Contents",
   "toc_cell": false,
   "toc_position": {},
   "toc_section_display": false,
   "toc_window_display": false
  }
 },
 "nbformat": 4,
 "nbformat_minor": 2
}
