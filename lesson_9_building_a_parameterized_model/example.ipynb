{
 "cells": [
  {
   "cell_type": "markdown",
   "metadata": {},
   "source": [
    "\n",
    "\n",
    "![](img/1.png)\n",
    "---\n",
    "![](img/2.png)\n",
    "---\n",
    "![](img/3.png)\n",
    "---\n"
   ]
  },
  {
   "cell_type": "code",
   "execution_count": 4,
   "metadata": {},
   "outputs": [
    {
     "name": "stdout",
     "output_type": "stream",
     "text": [
      "X = [2.], Y = [0.75]\n",
      "X = [2.], Y = [0.75]\n",
      "X = [2.00000001], Y = [0.75000001]\n",
      "X = [0.99999999], Y = [0.75000001]\n",
      "X = [1.5], Y = [0.5]\n",
      "X = [1.5], Y = [0.5]\n",
      "X = [1.50000001], Y = [0.5]\n",
      "Optimization terminated successfully.    (Exit mode 0)\n",
      "            Current function value: 0.5\n",
      "            Iterations: 2\n",
      "            Function evaluations: 7\n",
      "            Gradient evaluations: 2\n",
      "Minima found at: \n",
      "X = [1.5], Y = 0.5\n"
     ]
    }
   ],
   "source": [
    "import pandas as pd\n",
    "import matplotlib.pyplot as plt\n",
    "import numpy as np\n",
    "import scipy.optimize as spo\n",
    "\n",
    "def f(X):\n",
    "    \"\"\" Give a scalar X, return some value(a real number) \"\"\"\n",
    "    Y = (1.5 - X)**2 + 0.5\n",
    "    print(f'X = {X}, Y = {Y}')  # for tracing\n",
    "    return Y\n",
    "\n",
    "Xguess = 2.0\n",
    "min_result = spo.minimize(f, Xguess, method='SLSQP', options={'disp': True})\n",
    "print(\"Minima found at: \")\n",
    "print(f\"X = {min_result.x}, Y = {min_result.fun}\")"
   ]
  },
  {
   "cell_type": "markdown",
   "metadata": {},
   "source": [
    "![](img/4.png)\n",
    "---\n",
    "![](img/5.png)\n",
    "---\n",
    "![](img/6.png)\n",
    "---\n",
    "![](img/7.png)"
   ]
  },
  {
   "cell_type": "code",
   "execution_count": 24,
   "metadata": {},
   "outputs": [
    {
     "name": "stdout",
     "output_type": "stream",
     "text": [
      "Optimization terminated successfully.    (Exit mode 0)\n",
      "            Current function value: 161.49616221130705\n",
      "            Iterations: 5\n",
      "            Function evaluations: 24\n",
      "            Gradient evaluations: 5\n",
      "Fitted Line: C0 = 3.8337794040301536, C1 = 4.111425912125463\n"
     ]
    },
    {
     "data": {
      "image/png": "[encoded data removed]",
      "text/plain": [
       "<Figure size 432x288 with 1 Axes>"
      ]
     },
     "metadata": {},
     "output_type": "display_data"
    }
   ],
   "source": [
    "def error(line, data):\n",
    "    \"\"\" Compute error between given line model and observed data \n",
    "    Parameters\n",
    "    -----------\n",
    "    line: (C0, C1), where C0 is slope and C1 is Y-intercept\n",
    "    data: 2d array where each array is a point (x, y)\n",
    "    \"\"\"\n",
    "    err = np.sum((data[:, 1] - (line[0] * data[:, 0] + line[1])) ** 2)\n",
    "    return err\n",
    "\n",
    "\n",
    "def fit_line(data, error_func):\n",
    "    l = np.float32([0, np.mean(data[:, 1])])\n",
    "    result = spo.minimize(error_func, l, args=(data,), method='SLSQP', options={'disp': True})\n",
    "    return result.x\n",
    "\n",
    "# Define original line\n",
    "l_orig = np.float32([4, 2])\n",
    "Xorig = np.linspace(0, 10, 21)\n",
    "Yorig = l_orig[0] * Xorig + l_orig[1]\n",
    "plt.plot(Xorig, Yorig, 'b--', linewidth=2.0, label=\"Original Line\")\n",
    "\n",
    "# Generate noisy data points\n",
    "noise_sigma = 3.0\n",
    "noise = np.random.normal(0, noise_sigma, Yorig.shape)\n",
    "data = np.asarray([Xorig, Yorig+noise]).T\n",
    "plt.plot(data[:, 0], data[:, 1], 'go', label='Data Points')\n",
    "\n",
    "# Try to fit a line to this data\n",
    "l_fit = fit_line(data, error)\n",
    "print(f\"Fitted Line: C0 = {l_fit[0]}, C1 = {l_fit[1]}\")\n",
    "plt.plot(data[:, 0], l_fit[0]*data[:, 0]+l_fit[1], 'r--', linewidth=2.0, label=\"Fitted Line\")\n",
    "plt.legend(loc='upper left')\n",
    "plt.show()"
   ]
  },
  {
   "cell_type": "code",
   "execution_count": 10,
   "metadata": {},
   "outputs": [
    {
     "data": {
      "text/plain": [
       "4.0"
      ]
     },
     "execution_count": 10,
     "metadata": {},
     "output_type": "execute_result"
    }
   ],
   "source": []
  }
 ],
 "metadata": {
  "kernelspec": {
   "display_name": "Python 3",
   "language": "python",
   "name": "python3"
  },
  "language_info": {
   "codemirror_mode": {
    "name": "ipython",
    "version": 3
   },
   "file_extension": ".py",
   "mimetype": "text/x-python",
   "name": "python",
   "nbconvert_exporter": "python",
   "pygments_lexer": "ipython3",
   "version": "3.6.5"
  },
  "toc": {
   "base_numbering": 1,
   "nav_menu": {},
   "number_sections": false,
   "sideBar": false,
   "skip_h1_title": false,
   "title_cell": "Table of Contents",
   "title_sidebar": "Contents",
   "toc_cell": false,
   "toc_position": {},
   "toc_section_display": false,
   "toc_window_display": false
  }
 },
 "nbformat": 4,
 "nbformat_minor": 2
}
