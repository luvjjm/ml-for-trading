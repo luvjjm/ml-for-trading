{
 "cells": [
  {
   "cell_type": "markdown",
   "metadata": {},
   "source": [
    "## MC2: Computational Investing\n",
    "---\n",
    "\n",
    "#### Lessons: In this mini-course, we focus on modeling the behavior of stock markets.\n",
    "1. So you want to be a hedge fund manager?\n",
    "1. Market mechanics\n",
    "1. What is a company worth?\n",
    "1. The Capital Assets Pricing Model (CAPM)\n",
    "1. How hedge funds use the CAPM\n",
    "1. Technical Analysis\n",
    "1. Dealing with data\n",
    "1. Efficient Markets Hypothesis\n",
    "1. The Fundamental Law of active portfolio management\n",
    "1. Portfolio optimization and the efficient frontier\n",
    "\n",
    "#### Projects:\n",
    "1. Build a market simulator\n",
    "1. Invent your own technical indicator\n",
    "1. Write a strategy that generates orders"
   ]
  },
  {
   "cell_type": "markdown",
   "metadata": {},
   "source": [
    "![](img/1.png)"
   ]
  },
  {
   "cell_type": "markdown",
   "metadata": {},
   "source": [
    "**Assets Under Management (AUM)** is the total amount of money being managed by the fund.\n",
    "\n",
    "![](img/2.png)\n",
    "![](img/3.png)\n"
   ]
  },
  {
   "cell_type": "markdown",
   "metadata": {},
   "source": [
    "![](img/4.png)"
   ]
  },
  {
   "cell_type": "markdown",
   "metadata": {},
   "source": [
    "### Computing inside a hedge fund\n",
    "---\n",
    "\n",
    "![](img/5.png)\n",
    "![](img/6.png)\n",
    "![](img/7.png)"
   ]
  }
 ],
 "metadata": {
  "kernelspec": {
   "display_name": "Python 3",
   "language": "python",
   "name": "python3"
  },
  "language_info": {
   "codemirror_mode": {
    "name": "ipython",
    "version": 3
   },
   "file_extension": ".py",
   "mimetype": "text/x-python",
   "name": "python",
   "nbconvert_exporter": "python",
   "pygments_lexer": "ipython3",
   "version": "3.6.5"
  },
  "toc": {
   "base_numbering": 1,
   "nav_menu": {},
   "number_sections": false,
   "sideBar": false,
   "skip_h1_title": false,
   "title_cell": "Table of Contents",
   "title_sidebar": "Contents",
   "toc_cell": false,
   "toc_position": {},
   "toc_section_display": false,
   "toc_window_display": false
  }
 },
 "nbformat": 4,
 "nbformat_minor": 2
}
